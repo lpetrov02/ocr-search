{
 "cells": [
  {
   "cell_type": "code",
   "execution_count": 1,
   "id": "d93771da",
   "metadata": {},
   "outputs": [],
   "source": [
    "import os\n",
    "from pathlib import Path\n",
    "\n",
    "from doc_search import create_docs_from_book, full_text_search"
   ]
  },
  {
   "cell_type": "code",
   "execution_count": 2,
   "id": "ed757c5d",
   "metadata": {},
   "outputs": [
    {
     "name": "stderr",
     "output_type": "stream",
     "text": [
      "/home/asya/.local/lib/python3.8/site-packages/elasticsearch/connection/base.py:200: ElasticsearchWarning: Elasticsearch built-in security features are not enabled. Without authentication, your cluster could be accessible to anyone. See https://www.elastic.co/guide/en/elasticsearch/reference/7.16/security-minimal-setup.html to enable security.\n",
      "  warnings.warn(message, category=ElasticsearchWarning)\n"
     ]
    }
   ],
   "source": [
    "parent_dir = str(Path(os.getcwd()).parent)\n",
    "create_docs_from_book(parent_dir + '/djvu utils/DjVu_Tech_Primer.txt', 1)"
   ]
  },
  {
   "cell_type": "code",
   "execution_count": 3,
   "id": "7c6cefb2",
   "metadata": {},
   "outputs": [
    {
     "data": {
      "text/plain": [
       "[{'_index': 'test',\n",
       "  '_type': '_doc',\n",
       "  '_id': '1',\n",
       "  '_score': 1.9266948,\n",
       "  '_source': {'book_id': 1,\n",
       "   'page_number': 1,\n",
       "   'line_number': 1,\n",
       "   'text': 'DjVu Technology Primer '}},\n",
       " {'_index': 'test',\n",
       "  '_type': '_doc',\n",
       "  '_id': '41',\n",
       "  '_score': 1.9266948,\n",
       "  '_source': {'book_id': 1,\n",
       "   'page_number': 2,\n",
       "   'line_number': 8,\n",
       "   'text': 'The DjVu Approach '}},\n",
       " {'_index': 'test',\n",
       "  '_type': '_doc',\n",
       "  '_id': '54',\n",
       "  '_score': 1.9266948,\n",
       "  '_source': {'book_id': 1,\n",
       "   'page_number': 2,\n",
       "   'line_number': 21,\n",
       "   'text': 'HOW DJVU WORKS '}},\n",
       " {'_index': 'test',\n",
       "  '_type': '_doc',\n",
       "  '_id': '175',\n",
       "  '_score': 1.9266948,\n",
       "  '_source': {'book_id': 1,\n",
       "   'page_number': 6,\n",
       "   'line_number': 3,\n",
       "   'text': 'DIGITAL TO DJVU '}},\n",
       " {'_index': 'test',\n",
       "  '_type': '_doc',\n",
       "  '_id': '168',\n",
       "  '_score': 1.8353258,\n",
       "  '_source': {'book_id': 1,\n",
       "   'page_number': 5,\n",
       "   'line_number': 40,\n",
       "   'text': 'to a DjVu document. Also, embedding hyperlinks in DjVu documents is easy. '}},\n",
       " {'_index': 'test',\n",
       "  '_type': '_doc',\n",
       "  '_id': '108',\n",
       "  '_score': 1.7931687,\n",
       "  '_source': {'book_id': 1,\n",
       "   'page_number': 3,\n",
       "   'line_number': 33,\n",
       "   'text': 'IW44 (i.e., unsegmented DjVu) and regular (i.e., segmented) DjVu. The second image column '}},\n",
       " {'_index': 'test',\n",
       "  '_type': '_doc',\n",
       "  '_id': '27',\n",
       "  '_score': 1.7529048,\n",
       "  '_source': {'book_id': 1,\n",
       "   'page_number': 1,\n",
       "   'line_number': 27,\n",
       "   'text': 'Only DjVu technology addresses both issues. By design, DjVu preserves the visual fidelity of '}},\n",
       " {'_index': 'test',\n",
       "  '_type': '_doc',\n",
       "  '_id': '19',\n",
       "  '_score': 1.678186,\n",
       "  '_source': {'book_id': 1,\n",
       "   'page_number': 1,\n",
       "   'line_number': 19,\n",
       "   'text': 'HOW DJVU DIFFERS FROM OTHER TECHNOLOGIES '}},\n",
       " {'_index': 'test',\n",
       "  '_type': '_doc',\n",
       "  '_id': '207',\n",
       "  '_score': 1.678186,\n",
       "  '_source': {'book_id': 1,\n",
       "   'page_number': 6,\n",
       "   'line_number': 35,\n",
       "   'text': 'Windows-based document to DjVu format. '}},\n",
       " {'_index': 'test',\n",
       "  '_type': '_doc',\n",
       "  '_id': '176',\n",
       "  '_score': 1.6775681,\n",
       "  '_source': {'book_id': 1,\n",
       "   'page_number': 6,\n",
       "   'line_number': 4,\n",
       "   'text': 'Digital to DjVu refers to a component of DjVu technology designed for the encoding of digital '}}]"
      ]
     },
     "execution_count": 3,
     "metadata": {},
     "output_type": "execute_result"
    }
   ],
   "source": [
    "full_text_search('djvu')"
   ]
  },
  {
   "cell_type": "code",
   "execution_count": 4,
   "id": "92469f01",
   "metadata": {},
   "outputs": [
    {
     "data": {
      "text/plain": [
       "[{'_index': 'test',\n",
       "  '_type': '_doc',\n",
       "  '_id': '30',\n",
       "  '_score': 8.591873,\n",
       "  '_source': {'book_id': 1,\n",
       "   'page_number': 1,\n",
       "   'line_number': 30,\n",
       "   'text': 'Limitations of Common Compression Technologies '}},\n",
       " {'_index': 'test',\n",
       "  '_type': '_doc',\n",
       "  '_id': '82',\n",
       "  '_score': 3.911748,\n",
       "  '_source': {'book_id': 1,\n",
       "   'page_number': 3,\n",
       "   'line_number': 7,\n",
       "   'text': 'percent over industry standard CCITT-Group 4 is common, and a factor of up to 1000 '}},\n",
       " {'_index': 'test',\n",
       "  '_type': '_doc',\n",
       "  '_id': '98',\n",
       "  '_score': 3.1749215,\n",
       "  '_source': {'book_id': 1,\n",
       "   'page_number': 3,\n",
       "   'line_number': 23,\n",
       "   'text': 'Background Compression '}},\n",
       " {'_index': 'test',\n",
       "  '_type': '_doc',\n",
       "  '_id': '72',\n",
       "  '_score': 3.0182056,\n",
       "  '_source': {'book_id': 1,\n",
       "   'page_number': 2,\n",
       "   'line_number': 39,\n",
       "   'text': 'Foreground Mask Compression '}},\n",
       " {'_index': 'test',\n",
       "  '_type': '_doc',\n",
       "  '_id': '85',\n",
       "  '_score': 3.0182056,\n",
       "  '_source': {'book_id': 1,\n",
       "   'page_number': 3,\n",
       "   'line_number': 10,\n",
       "   'text': 'Foreground Color Compression '}},\n",
       " {'_index': 'test',\n",
       "  '_type': '_doc',\n",
       "  '_id': '102',\n",
       "  '_score': 2.8750744,\n",
       "  '_source': {'book_id': 1,\n",
       "   'page_number': 3,\n",
       "   'line_number': 27,\n",
       "   'text': 'Segmentation, JB2 compression and IW44 compression all work together seamlessly to produce '}},\n",
       " {'_index': 'test',\n",
       "  '_type': '_doc',\n",
       "  '_id': '111',\n",
       "  '_score': 2.5205438,\n",
       "  '_source': {'book_id': 1,\n",
       "   'page_number': 3,\n",
       "   'line_number': 36,\n",
       "   'text': \"shows IW44 compression without DjVu's segmentation process. \"}},\n",
       " {'_index': 'test',\n",
       "  '_type': '_doc',\n",
       "  '_id': '188',\n",
       "  '_score': 2.420756,\n",
       "  '_source': {'book_id': 1,\n",
       "   'page_number': 6,\n",
       "   'line_number': 16,\n",
       "   'text': 'used for scanned documents. Compression then proceeds normally. '}},\n",
       " {'_index': 'test',\n",
       "  '_type': '_doc',\n",
       "  '_id': '47',\n",
       "  '_score': 2.2431452,\n",
       "  '_source': {'book_id': 1,\n",
       "   'page_number': 2,\n",
       "   'line_number': 14,\n",
       "   'text': 'These include the compression methods known as JB2 and IW44. '}},\n",
       " {'_index': 'test',\n",
       "  '_type': '_doc',\n",
       "  '_id': '81',\n",
       "  '_score': 2.1637676,\n",
       "  '_source': {'book_id': 1,\n",
       "   'page_number': 3,\n",
       "   'line_number': 6,\n",
       "   'text': 'compression ratios increase with longer documents. An improvement factor of 300 '}}]"
      ]
     },
     "execution_count": 4,
     "metadata": {},
     "output_type": "execute_result"
    }
   ],
   "source": [
    "full_text_search('common compression')"
   ]
  },
  {
   "cell_type": "code",
   "execution_count": 5,
   "id": "727729f7",
   "metadata": {},
   "outputs": [
    {
     "data": {
      "text/plain": [
       "[{'_index': 'test',\n",
       "  '_type': '_doc',\n",
       "  '_id': '13',\n",
       "  '_score': 3.7322106,\n",
       "  '_source': {'book_id': 1,\n",
       "   'page_number': 1,\n",
       "   'line_number': 13,\n",
       "   'text': 'scanned color page into layers and achieve high compression ratios, low memory utilization, '}},\n",
       " {'_index': 'test',\n",
       "  '_type': '_doc',\n",
       "  '_id': '93',\n",
       "  '_score': 3.5008206,\n",
       "  '_source': {'book_id': 1,\n",
       "   'page_number': 3,\n",
       "   'line_number': 18,\n",
       "   'text': 'be very efficient while using very little memory, it enables the masking feature that guarantees '}},\n",
       " {'_index': 'test',\n",
       "  '_type': '_doc',\n",
       "  '_id': '158',\n",
       "  '_score': 3.3955617,\n",
       "  '_source': {'book_id': 1,\n",
       "   'page_number': 5,\n",
       "   'line_number': 30,\n",
       "   'text': '\\\\342\\\\200\\\\242 Very Small Memory Requirements -- Only the pixels of the current view are fully '}},\n",
       " {'_index': 'test',\n",
       "  '_type': '_doc',\n",
       "  '_id': '192',\n",
       "  '_score': 3.1146202,\n",
       "  '_source': {'book_id': 1,\n",
       "   'page_number': 6,\n",
       "   'line_number': 20,\n",
       "   'text': '\\\\342\\\\200\\\\242 Memory Efficiency -- There is never a need to render the page into a full-color raster '}}]"
      ]
     },
     "execution_count": 5,
     "metadata": {},
     "output_type": "execute_result"
    }
   ],
   "source": [
    "full_text_search('memory')"
   ]
  },
  {
   "cell_type": "code",
   "execution_count": null,
   "id": "7e45dc86",
   "metadata": {},
   "outputs": [],
   "source": []
  }
 ],
 "metadata": {
  "kernelspec": {
   "display_name": "Python 3 (ipykernel)",
   "language": "python",
   "name": "python3"
  },
  "language_info": {
   "codemirror_mode": {
    "name": "ipython",
    "version": 3
   },
   "file_extension": ".py",
   "mimetype": "text/x-python",
   "name": "python",
   "nbconvert_exporter": "python",
   "pygments_lexer": "ipython3",
   "version": "3.8.10"
  }
 },
 "nbformat": 4,
 "nbformat_minor": 5
}
