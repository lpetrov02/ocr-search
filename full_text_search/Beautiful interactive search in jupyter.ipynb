{
 "cells": [
  {
   "cell_type": "code",
   "execution_count": 1,
   "id": "0136dec7",
   "metadata": {},
   "outputs": [
    {
     "data": {
      "application/vnd.jupyter.widget-view+json": {
       "model_id": "00488febe5e648ef95f5f16b1bbf6f50",
       "version_major": 2,
       "version_minor": 0
      },
      "text/plain": [
       "interactive(children=(Text(value='', description='query'), Output()), _dom_classes=('widget-interact',))"
      ]
     },
     "metadata": {},
     "output_type": "display_data"
    },
    {
     "data": {
      "text/plain": [
       "<function __main__.get_search_results(query)>"
      ]
     },
     "execution_count": 1,
     "metadata": {},
     "output_type": "execute_result"
    }
   ],
   "source": [
    "from doc_search import get_beautiful_serp\n",
    "from ipywidgets import interact\n",
    "\n",
    "file_with_book_ids = '/home/asya/project/books_id.txt'\n",
    "\n",
    "def get_search_results(query):\n",
    "    if len(query):\n",
    "        print(get_beautiful_serp(query, file_with_book_ids, index='full_bucket'))\n",
    "\n",
    "interact(get_search_results, query='')"
   ]
  },
  {
   "cell_type": "code",
   "execution_count": null,
   "id": "eed446d7",
   "metadata": {},
   "outputs": [],
   "source": []
  }
 ],
 "metadata": {
  "kernelspec": {
   "display_name": "Python 3 (ipykernel)",
   "language": "python",
   "name": "python3"
  },
  "language_info": {
   "codemirror_mode": {
    "name": "ipython",
    "version": 3
   },
   "file_extension": ".py",
   "mimetype": "text/x-python",
   "name": "python",
   "nbconvert_exporter": "python",
   "pygments_lexer": "ipython3",
   "version": "3.8.10"
  }
 },
 "nbformat": 4,
 "nbformat_minor": 5
}
