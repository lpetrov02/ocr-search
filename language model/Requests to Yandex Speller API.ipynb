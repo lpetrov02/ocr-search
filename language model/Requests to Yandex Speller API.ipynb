{
 "cells": [
  {
   "cell_type": "code",
   "execution_count": 1,
   "id": "adb57caa",
   "metadata": {},
   "outputs": [
    {
     "data": {
      "text/plain": [
       "'Товарищ Сталин встретил польского осла'"
      ]
     },
     "execution_count": 1,
     "metadata": {},
     "output_type": "execute_result"
    }
   ],
   "source": [
    "import requests\n",
    "import json\n",
    "\n",
    "API_URL = 'https://speller.yandex.net/services/spellservice.json/checkText'\n",
    "\n",
    "def correct_text(text):\n",
    "    preprocessed_text = text.replace(' ', '+')\n",
    "    whole_url = API_URL + '?text=' + preprocessed_text\n",
    "    content = requests.get(whole_url).json()\n",
    "    corrected_text = text\n",
    "    for err_word in reversed(content):\n",
    "        position = err_word['pos']\n",
    "        corrected = err_word['s'][0]\n",
    "        curr_len = err_word['len']\n",
    "        corrected_text = corrected_text[:position] + corrected + corrected_text[(position+curr_len):]\n",
    "    return corrected_text\n",
    "\n",
    "correct_text('Товарищ Сталин встретил польского осла')"
   ]
  },
  {
   "cell_type": "code",
   "execution_count": 2,
   "id": "7079c7b7",
   "metadata": {},
   "outputs": [
    {
     "data": {
      "text/plain": [
       "'English sentence with spell mistakes'"
      ]
     },
     "execution_count": 2,
     "metadata": {},
     "output_type": "execute_result"
    }
   ],
   "source": [
    "correct_text('Englist sentecne with spell mistakes')"
   ]
  },
  {
   "cell_type": "code",
   "execution_count": null,
   "id": "3f03be04",
   "metadata": {},
   "outputs": [],
   "source": []
  }
 ],
 "metadata": {
  "kernelspec": {
   "display_name": "Python 3 (ipykernel)",
   "language": "python",
   "name": "python3"
  },
  "language_info": {
   "codemirror_mode": {
    "name": "ipython",
    "version": 3
   },
   "file_extension": ".py",
   "mimetype": "text/x-python",
   "name": "python",
   "nbconvert_exporter": "python",
   "pygments_lexer": "ipython3",
   "version": "3.8.10"
  }
 },
 "nbformat": 4,
 "nbformat_minor": 5
}
