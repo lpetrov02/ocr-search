{
 "cells": [
  {
   "cell_type": "code",
   "execution_count": 1,
   "id": "b448e1e0",
   "metadata": {},
   "outputs": [],
   "source": [
    "%load_ext autoreload"
   ]
  },
  {
   "cell_type": "code",
   "execution_count": 15,
   "id": "6e05d6ef",
   "metadata": {},
   "outputs": [],
   "source": [
    "from tqdm.notebook import tqdm\n",
    "\n",
    "import argparse\n",
    "import os\n",
    "import sys\n",
    "\n",
    "import cairo\n",
    "import djvu.decode\n",
    "\n",
    "import cv2\n",
    "import numpy as np\n",
    "import pandas as pd\n",
    "import matplotlib.pyplot as plt\n",
    "import shutil\n",
    "import random\n",
    "\n",
    "from urllib.request import urlopen\n",
    "from io import BytesIO\n",
    "from zipfile import ZipFile"
   ]
  },
  {
   "cell_type": "code",
   "execution_count": 3,
   "id": "0484cb60",
   "metadata": {},
   "outputs": [],
   "source": [
    "%autoreload 5\n",
    "from crop_letters.crop_letters import contour_letters, letter_28x28, contour_letters_draw, binary"
   ]
  },
  {
   "cell_type": "code",
   "execution_count": 24,
   "id": "4bd5eaf7",
   "metadata": {},
   "outputs": [],
   "source": [
    "cairo_pixel_format = cairo.FORMAT_ARGB32\n",
    "djvu_pixel_format = djvu.decode.PixelFormatRgbMask(0xFF0000, 0xFF00, 0xFF, bpp=32)\n",
    "djvu_pixel_format.rows_top_to_bottom = 1\n",
    "djvu_pixel_format.y_top_to_bottom = 0\n",
    "dataset_path = \"/home/alex/Proga/Project/dataset_5_books/\"\n",
    "\n",
    "class Context(djvu.decode.Context):\n",
    "\n",
    "    def process(self, djvu_path, mode, num=0, pages=[]):\n",
    "        document = self.new_document(djvu.decode.FileURI(djvu_path))\n",
    "        ids = random.sample(range(10, 110), 10)\n",
    "        for i, page in tqdm(enumerate(document.pages)):\n",
    "            page.get_info(wait=True)\n",
    "            if (i not in pages and pages != []) or i not in ids:\n",
    "                continue\n",
    "            page_job = page.decode(wait=True)\n",
    "            width, height = page_job.size\n",
    "            rect = (0, 0, width, height)\n",
    "            bytes_per_line = cairo.ImageSurface.format_stride_for_width(cairo_pixel_format, width)\n",
    "            assert bytes_per_line % 4 == 0\n",
    "            color_buffer = np.zeros((height, bytes_per_line // 4), dtype=np.uint32)\n",
    "            page_job.render(mode, rect, rect, djvu_pixel_format, row_alignment=bytes_per_line,\n",
    "                            buffer=color_buffer)\n",
    "            mask_buffer = np.zeros((height, bytes_per_line // 4), dtype=np.uint32)\n",
    "            if mode == djvu.decode.RENDER_FOREGROUND:\n",
    "                page_job.render(djvu.decode.RENDER_MASK_ONLY, rect, rect, djvu_pixel_format,\n",
    "                                row_alignment=bytes_per_line, buffer=mask_buffer)\n",
    "                mask_buffer <<= 24\n",
    "                color_buffer |= mask_buffer\n",
    "            color_buffer ^= 0xFF000000\n",
    "            surface = cairo.ImageSurface.create_for_data(color_buffer, cairo_pixel_format, width, height)\n",
    "            surface.write_to_png(\"temp/_temp.png\")\n",
    "            \n",
    "            img = cv2.imread(\"temp/_temp.png\")\n",
    "            gray = cv2.cvtColor(img, cv2.COLOR_BGR2GRAY)\n",
    "            _, bi = binary(gray)\n",
    "                        \n",
    "            coeff = 1 #2500/img.shape[0]\n",
    "            \n",
    "            cut_text(page.text.sexpr, bi, coeff, num)"
   ]
  },
  {
   "cell_type": "code",
   "execution_count": 5,
   "id": "c1d6bc51",
   "metadata": {},
   "outputs": [],
   "source": [
    "def get_text(djvu_path, num=0, pages=[]):\n",
    "    mode=djvu.decode.RENDER_COLOR\n",
    "    context = Context()\n",
    "    context.process(djvu_path, mode, num)\n",
    "    \n",
    "def six_digits():\n",
    "    number = str(np.random.randint(0, 1000000))\n",
    "    while len(number) < 6:\n",
    "        number = \"0\" + number\n",
    "    return number\n",
    "\n",
    "def cut_text(sexpr, bi, coeff, num):\n",
    "    if isinstance(sexpr, djvu.sexpr.ListExpression):\n",
    "        if len(sexpr) == 0:\n",
    "            return\n",
    "        part = str(sexpr[0].value)\n",
    "        if part == \"page\":\n",
    "            _, _, H, W = [sexpr[i].value for i in range(1, 5)]\n",
    "            bi = cv2.resize(bi, (H, W), cv2.INTER_LINEAR)\n",
    "        if part == \"word\":\n",
    "            eps = 10\n",
    "            (x1, y1, x2, y2) = [sexpr[i].value for i in range(1, 5)]\n",
    "            word = sexpr[5].as_string(escape_unicode=False)[1:-1]\n",
    "            #word = str(sexpr[5])[1:-1]\n",
    "            flag = 1\n",
    "            for char in word:\n",
    "                if char == '\\\\':\n",
    "                    flag = 0\n",
    "            if (flag):\n",
    "                H, W = bi.shape\n",
    "                word_img = bi[-y2-eps:-y1+eps, x1-eps:x2+eps]\n",
    "                '''print(\"------>\", word)\n",
    "                plt.imshow(word_img, cmap='gray')\n",
    "                plt.show()\n",
    "                contour_letters_draw(word_img)\n",
    "                plt.show()'''\n",
    "\n",
    "                '''(w, h) = (int(word_img.shape[1]*coeff), int(word_img.shape[0]*coeff))\n",
    "\n",
    "                if coeff < 1:\n",
    "                    word_img = cv2.resize(word_img, (w, h), cv2.INTER_AREA)\n",
    "                else:\n",
    "                    word_img = cv2.resize(word_img, (w, h), cv2.INTER_LINEAR)'''\n",
    "                \n",
    "                rectangles = contour_letters(word_img)\n",
    "                #plt.figure(figsize=(10, 10))\n",
    "                for i, rec in enumerate(rectangles):\n",
    "                    (x, y, w, h) = rec\n",
    "                    letter = letter_28x28(word_img[y:y+h, x:x+w])\n",
    "                    if i >= len(word):\n",
    "                        break\n",
    "                    if word[i] == \"/\":\n",
    "                        continue\n",
    "                    '''plt.subplot(1, len(word), i+1)\n",
    "                    plt.title(word[i])\n",
    "                    plt.imshow(letter, cmap='gray')'''\n",
    "                    folder_name = dataset_path + \"<\" + word[i] + \">\"\n",
    "                    if not os.path.exists(folder_name):\n",
    "                        os.mkdir(folder_name)\n",
    "                    cv2.imwrite(folder_name + \"/\" + str(num) + \"-\" + six_digits() + \".png\", letter)\n",
    "                plt.show()\n",
    "                    \n",
    "        for child in sexpr[5:]:\n",
    "            cut_text(child, bi, coeff, num)"
   ]
  },
  {
   "cell_type": "code",
   "execution_count": 6,
   "id": "b4ef55fd",
   "metadata": {},
   "outputs": [],
   "source": [
    "book_path = \"/home/alex/Proga/Project/books\"\n",
    "\n",
    "def download_and_unzip(url, extract_to=book_path):\n",
    "    http_response = urlopen(url)\n",
    "    zipfile = ZipFile(BytesIO(http_response.read()))\n",
    "    zipfile.extractall(path=extract_to)"
   ]
  },
  {
   "cell_type": "code",
   "execution_count": 7,
   "id": "a2e443ed",
   "metadata": {
    "scrolled": true
   },
   "outputs": [
    {
     "data": {
      "text/html": [
       "<div>\n",
       "<style scoped>\n",
       "    .dataframe tbody tr th:only-of-type {\n",
       "        vertical-align: middle;\n",
       "    }\n",
       "\n",
       "    .dataframe tbody tr th {\n",
       "        vertical-align: top;\n",
       "    }\n",
       "\n",
       "    .dataframe thead th {\n",
       "        text-align: right;\n",
       "    }\n",
       "</style>\n",
       "<table border=\"1\" class=\"dataframe\">\n",
       "  <thead>\n",
       "    <tr style=\"text-align: right;\">\n",
       "      <th></th>\n",
       "      <th>djvu_link</th>\n",
       "    </tr>\n",
       "  </thead>\n",
       "  <tbody>\n",
       "    <tr>\n",
       "      <th>0</th>\n",
       "      <td>http://publ.lib.ru/ARCHIVES/A/ACADEMIA/Bernard...</td>\n",
       "    </tr>\n",
       "    <tr>\n",
       "      <th>1</th>\n",
       "      <td>http://publ.lib.ru/ARCHIVES/A/''Astronomichesk...</td>\n",
       "    </tr>\n",
       "    <tr>\n",
       "      <th>2</th>\n",
       "      <td>http://publ.lib.ru/ARCHIVES/A/''Aviaciya_i_kos...</td>\n",
       "    </tr>\n",
       "    <tr>\n",
       "      <th>3</th>\n",
       "      <td>http://publ.lib.ru/ARCHIVES/A/ABRAMOV_Aleksand...</td>\n",
       "    </tr>\n",
       "    <tr>\n",
       "      <th>4</th>\n",
       "      <td>http://publ.lib.ru/ARCHIVES/A/ACADEMIA/Baluhat...</td>\n",
       "    </tr>\n",
       "  </tbody>\n",
       "</table>\n",
       "</div>"
      ],
      "text/plain": [
       "                                           djvu_link\n",
       "0  http://publ.lib.ru/ARCHIVES/A/ACADEMIA/Bernard...\n",
       "1  http://publ.lib.ru/ARCHIVES/A/''Astronomichesk...\n",
       "2  http://publ.lib.ru/ARCHIVES/A/''Aviaciya_i_kos...\n",
       "3  http://publ.lib.ru/ARCHIVES/A/ABRAMOV_Aleksand...\n",
       "4  http://publ.lib.ru/ARCHIVES/A/ACADEMIA/Baluhat..."
      ]
     },
     "execution_count": 7,
     "metadata": {},
     "output_type": "execute_result"
    }
   ],
   "source": [
    "%autoreload 5\n",
    "good_links = pd.read_csv(\"/home/alex/Proga/Project/djvu_links.csv\")\n",
    "good_links.head()"
   ]
  },
  {
   "cell_type": "code",
   "execution_count": 17,
   "id": "3063bfcc",
   "metadata": {},
   "outputs": [
    {
     "name": "stdout",
     "output_type": "stream",
     "text": [
      "[3562, 3106, 5107, 6699, 6789, 3188, 754, 4140, 6021, 768, 7207, 2288, 6342, 3052, 7619, 7396, 1495, 2383, 2746, 5022]\n"
     ]
    }
   ],
   "source": [
    "ids = random.sample(range(len(good_links)), 20)\n",
    "print(ids)\n",
    "\n",
    "for link in good_links[\"djvu_link\"][ids]:\n",
    "    #if os.path.exists(book_path):\n",
    "    #    shutil.rmtree(book_path)\n",
    "    \n",
    "    download_and_unzip(link)"
   ]
  },
  {
   "cell_type": "code",
   "execution_count": 26,
   "id": "08ee828b",
   "metadata": {},
   "outputs": [],
   "source": [
    "if os.path.exists(dataset_path):\n",
    "        shutil.rmtree(dataset_path)\n",
    "os.mkdir(dataset_path)"
   ]
  },
  {
   "cell_type": "code",
   "execution_count": 27,
   "id": "0b69ff40",
   "metadata": {
    "scrolled": false
   },
   "outputs": [
    {
     "name": "stdout",
     "output_type": "stream",
     "text": [
      "/home/alex/Proga/Project/books/ERA018-1969.djvu\n"
     ]
    },
    {
     "data": {
      "application/vnd.jupyter.widget-view+json": {
       "model_id": "1c1a7556f3e74aa5b1b88e928e2a6a4b",
       "version_major": 2,
       "version_minor": 0
      },
      "text/plain": [
       "0it [00:00, ?it/s]"
      ]
     },
     "metadata": {},
     "output_type": "display_data"
    },
    {
     "name": "stdout",
     "output_type": "stream",
     "text": [
      "/home/alex/Proga/Project/books/Çíαá¼«ó æ. - éδΦÑ αáñπú¿ (1983).djvu\n"
     ]
    },
    {
     "data": {
      "application/vnd.jupyter.widget-view+json": {
       "model_id": "fed6e1ea289b45fb8704e55b36976a03",
       "version_major": 2,
       "version_minor": 0
      },
      "text/plain": [
       "0it [00:00, ?it/s]"
      ]
     },
     "metadata": {},
     "output_type": "display_data"
    },
    {
     "name": "stdout",
     "output_type": "stream",
     "text": [
      "/home/alex/Proga/Project/books/ÿΓ¿½∞¼áα¬ É. - ìáß½Ññ¡¿¬ ¿º èá½∞¬πΓΓδ (1958).djvu\n"
     ]
    },
    {
     "data": {
      "application/vnd.jupyter.widget-view+json": {
       "model_id": "2ad2587cca6546a5a94ed7f989484e8e",
       "version_major": 2,
       "version_minor": 0
      },
      "text/plain": [
       "0it [00:00, ?it/s]"
      ]
     },
     "metadata": {},
     "output_type": "display_data"
    },
    {
     "name": "stdout",
     "output_type": "stream",
     "text": [
      "/home/alex/Proga/Project/books/Zhigalov_Povest'_o_baltiyskom_matrose.(1973).djvu\n"
     ]
    },
    {
     "data": {
      "application/vnd.jupyter.widget-view+json": {
       "model_id": "c4c317be9f284db29f642cfd838d657f",
       "version_major": 2,
       "version_minor": 0
      },
      "text/plain": [
       "0it [00:00, ?it/s]"
      ]
     },
     "metadata": {},
     "output_type": "display_data"
    },
    {
     "name": "stdout",
     "output_type": "stream",
     "text": [
      "/home/alex/Proga/Project/books/üÅ¿ìö 1967 - ÆπΦ¬á¡ â.Å. - ÅÑαóδ⌐ óδßΓαÑ½.djvu\n"
     ]
    },
    {
     "data": {
      "application/vnd.jupyter.widget-view+json": {
       "model_id": "492b1aa0ec87400ab0666a9afb44883c",
       "version_major": 2,
       "version_minor": 0
      },
      "text/plain": [
       "0it [00:00, ?it/s]"
      ]
     },
     "metadata": {},
     "output_type": "display_data"
    },
    {
     "name": "stdout",
     "output_type": "stream",
     "text": [
      "/home/alex/Proga/Project/books/æÑαÑíα∩¡δÑ Γαπíδ é.âαπß½á¡«ó 1955-600M.djvu\n"
     ]
    },
    {
     "data": {
      "application/vnd.jupyter.widget-view+json": {
       "model_id": "c0ba64ca6d804722a3ec517d6a6d38b9",
       "version_major": 2,
       "version_minor": 0
      },
      "text/plain": [
       "0it [00:00, ?it/s]"
      ]
     },
     "metadata": {},
     "output_type": "display_data"
    },
    {
     "name": "stdout",
     "output_type": "stream",
     "text": [
      "/home/alex/Proga/Project/books/Ç¡Γ¿τ¡á∩ ñÑ¼«¬αáΓ¿∩ ó ßó¿ñÑΓÑ½∞ßΓóáσ ß«óαÑ¼Ñ¡¡¿¬«ó - 1996.djvu\n"
     ]
    },
    {
     "data": {
      "application/vnd.jupyter.widget-view+json": {
       "model_id": "986c5f8e9964406bb8be35c0737662f6",
       "version_major": 2,
       "version_minor": 0
      },
      "text/plain": [
       "0it [00:00, ?it/s]"
      ]
     },
     "metadata": {},
     "output_type": "display_data"
    },
    {
     "name": "stdout",
     "output_type": "stream",
     "text": [
      "/home/alex/Proga/Project/books/HG2004_014 î¿¬Ñ½∞á¡ñªÑ½«.djvu\n"
     ]
    },
    {
     "data": {
      "application/vnd.jupyter.widget-view+json": {
       "model_id": "415570c8ee744a07802d6a69d8a74124",
       "version_major": 2,
       "version_minor": 0
      },
      "text/plain": [
       "0it [00:00, ?it/s]"
      ]
     },
     "metadata": {},
     "output_type": "display_data"
    },
    {
     "name": "stdout",
     "output_type": "stream",
     "text": [
      "/home/alex/Proga/Project/books/â«½ßπ«αß¿ äª«¡ - æáúá « ö«αßá⌐Γáσ. Æ«¼ 2 (ü¿í½¿«ΓÑ¬á óßÑ¼¿α¡«⌐ ½¿ΓÑαáΓπαδ Γ.146) - 1973.djvu\n"
     ]
    },
    {
     "data": {
      "application/vnd.jupyter.widget-view+json": {
       "model_id": "bff47072731d4ccc8d7eca761d6a36b8",
       "version_major": 2,
       "version_minor": 0
      },
      "text/plain": [
       "0it [00:00, ?it/s]"
      ]
     },
     "metadata": {},
     "output_type": "display_data"
    },
    {
     "name": "stdout",
     "output_type": "stream",
     "text": [
      "/home/alex/Proga/Project/books/ba0406. àóΓπΦÑ¡¬« ê.ì. ÆÑ½Ñ¼Ñσá¡¿¬á ó áóΓ«¼áΓ¿º¿α«óá¡¡δσ ß¿ßΓÑ¼áσ π»αáó½Ñ¡¿∩ ¡á »α«¼δΦ½Ñ¡¡δσ »αÑñ»α¿∩Γ¿∩σ. (1970).djvu\n"
     ]
    },
    {
     "data": {
      "application/vnd.jupyter.widget-view+json": {
       "model_id": "d6ac74b657dd4265a68c51cb3f8d3786",
       "version_major": 2,
       "version_minor": 0
      },
      "text/plain": [
       "0it [00:00, ?it/s]"
      ]
     },
     "metadata": {},
     "output_type": "display_data"
    },
    {
     "name": "stdout",
     "output_type": "stream",
     "text": [
      "/home/alex/Proga/Project/books/Åα¿¼Ñ¡Ñ¡¿Ñ ΓÑ«α¿¿ úαáΣ«ó ó »α«úαá¼¼¿α«óá¡¿¿ (àóßΓ¿ú¡ÑÑó_é_Ç) (1985) 2.djvu\n"
     ]
    },
    {
     "data": {
      "application/vnd.jupyter.widget-view+json": {
       "model_id": "af93f2e67d7d429db10be57ca4fe3d74",
       "version_major": 2,
       "version_minor": 0
      },
      "text/plain": [
       "0it [00:00, ?it/s]"
      ]
     },
     "metadata": {},
     "output_type": "display_data"
    },
    {
     "name": "stdout",
     "output_type": "stream",
     "text": [
      "/home/alex/Proga/Project/books/ê¡Σ«α¼áΓ¿¬á 2001_48.djvu\n"
     ]
    },
    {
     "data": {
      "application/vnd.jupyter.widget-view+json": {
       "model_id": "105418b9c7b747138224a54699f2bda5",
       "version_major": 2,
       "version_minor": 0
      },
      "text/plain": [
       "0it [00:00, ?it/s]"
      ]
     },
     "metadata": {},
     "output_type": "display_data"
    },
    {
     "name": "stdout",
     "output_type": "stream",
     "text": [
      "/home/alex/Proga/Project/books/¥½½¿¡ß¬¿Ñ »«φΓδ VII-III óó. ñ« ¡. φ. ¥»«ß. ¥½Ñú¿∩. ƒ¼íδ. îÑ½¿¬á - 1999.djvu\n"
     ]
    },
    {
     "data": {
      "application/vnd.jupyter.widget-view+json": {
       "model_id": "f25d6c85670f4548bfb0d8731e69ab0a",
       "version_major": 2,
       "version_minor": 0
      },
      "text/plain": [
       "0it [00:00, ?it/s]"
      ]
     },
     "metadata": {},
     "output_type": "display_data"
    },
    {
     "name": "stdout",
     "output_type": "stream",
     "text": [
      "/home/alex/Proga/Project/books/hiz1966_07.djvu\n"
     ]
    },
    {
     "data": {
      "application/vnd.jupyter.widget-view+json": {
       "model_id": "c62d94ac28874533af5345cd7bee5933",
       "version_major": 2,
       "version_minor": 0
      },
      "text/plain": [
       "0it [00:00, ?it/s]"
      ]
     },
     "metadata": {},
     "output_type": "display_data"
    },
    {
     "name": "stdout",
     "output_type": "stream",
     "text": [
      "/home/alex/Proga/Project/books/HG2008_178 âóáαñ¿.djvu\n"
     ]
    },
    {
     "data": {
      "application/vnd.jupyter.widget-view+json": {
       "model_id": "d24080e755324a47ba85c1ab9b572ccf",
       "version_major": 2,
       "version_minor": 0
      },
      "text/plain": [
       "0it [00:00, ?it/s]"
      ]
     },
     "metadata": {},
     "output_type": "display_data"
    },
    {
     "name": "stdout",
     "output_type": "stream",
     "text": [
      "/home/alex/Proga/Project/books/üá½πσáΓδ⌐ æ.ä. ï¿ΓÑαáΓπα¡á∩ αáí«Γá î. â«α∞¬«ú«. 1892-1934 - 1936.djvu\n"
     ]
    },
    {
     "data": {
      "application/vnd.jupyter.widget-view+json": {
       "model_id": "6f8ca5c8182a45f2b49b25f408e7b43f",
       "version_major": 2,
       "version_minor": 0
      },
      "text/plain": [
       "0it [00:00, ?it/s]"
      ]
     },
     "metadata": {},
     "output_type": "display_data"
    },
    {
     "name": "stdout",
     "output_type": "stream",
     "text": [
      "/home/alex/Proga/Project/books/Éπ¬«ó«ñßΓó« »« ß«ºñá¡¿ε ñ«¬π¼Ñ¡Γáµ¿¿ ñ½∩ ¼áΓÑ¼áΓ¿τÑß¬«ú« «íÑß»ÑτÑ¡¿∩ ä.ô«½Φ 1975-600RM.djvu\n"
     ]
    },
    {
     "data": {
      "application/vnd.jupyter.widget-view+json": {
       "model_id": "67a4876db4af4b87ae1cf31a52c50a5a",
       "version_major": 2,
       "version_minor": 0
      },
      "text/plain": [
       "0it [00:00, ?it/s]"
      ]
     },
     "metadata": {},
     "output_type": "display_data"
    },
    {
     "name": "stdout",
     "output_type": "stream",
     "text": [
      "/home/alex/Proga/Project/books/ba0314. èáºáα¡«óß¬¿⌐ ä.î. à¼¬«ßΓ¡δÑ »αÑ«íαáº«óáΓÑ½¿ τáßΓ«Γδ. (1968).djvu\n"
     ]
    },
    {
     "data": {
      "application/vnd.jupyter.widget-view+json": {
       "model_id": "f1800cce3a92434a90034d3d8a791ac2",
       "version_major": 2,
       "version_minor": 0
      },
      "text/plain": [
       "0it [00:00, ?it/s]"
      ]
     },
     "metadata": {},
     "output_type": "display_data"
    },
    {
     "name": "stdout",
     "output_type": "stream",
     "text": [
      "/home/alex/Proga/Project/books/ùÑατ¿½½∞ ô. - éΓ«αá∩ ¼¿α«óá∩ ó«⌐¡á. Æ«¼ 2. êσ ßá¼δ⌐ ß½áó¡δ⌐ τáß, 1998.djvu\n"
     ]
    },
    {
     "data": {
      "application/vnd.jupyter.widget-view+json": {
       "model_id": "f55a12653c3948aa95562a7ec90462df",
       "version_major": 2,
       "version_minor": 0
      },
      "text/plain": [
       "0it [00:00, ?it/s]"
      ]
     },
     "metadata": {},
     "output_type": "display_data"
    },
    {
     "name": "stdout",
     "output_type": "stream",
     "text": [
      "/home/alex/Proga/Project/books/Geller 7-8 (1985).djvu\n"
     ]
    },
    {
     "data": {
      "application/vnd.jupyter.widget-view+json": {
       "model_id": "83c73332dac74b18819e51680d7adf4d",
       "version_major": 2,
       "version_minor": 0
      },
      "text/plain": [
       "0it [00:00, ?it/s]"
      ]
     },
     "metadata": {},
     "output_type": "display_data"
    },
    {
     "name": "stdout",
     "output_type": "stream",
     "text": [
      "/home/alex/Proga/Project/books/ÇßΓα«¡«¼¿τÑß¬¿⌐ ¬á½Ñ¡ñáα∞. Å«ßΓ«∩¡¡á∩ τáßΓ∞. êºñá¡¿Ñ 07.(1981).djvu\n"
     ]
    },
    {
     "data": {
      "application/vnd.jupyter.widget-view+json": {
       "model_id": "b23ba5060a4c465ea18e75524258776b",
       "version_major": 2,
       "version_minor": 0
      },
      "text/plain": [
       "0it [00:00, ?it/s]"
      ]
     },
     "metadata": {},
     "output_type": "display_data"
    },
    {
     "name": "stdout",
     "output_type": "stream",
     "text": [
      "/home/alex/Proga/Project/books/esli_1995_10.djvu\n"
     ]
    },
    {
     "data": {
      "application/vnd.jupyter.widget-view+json": {
       "model_id": "4c1df3650c014f81a46752950d142afb",
       "version_major": 2,
       "version_minor": 0
      },
      "text/plain": [
       "0it [00:00, ?it/s]"
      ]
     },
     "metadata": {},
     "output_type": "display_data"
    },
    {
     "name": "stdout",
     "output_type": "stream",
     "text": [
      "/home/alex/Proga/Project/books/ï¿ß¿⌐. ÉÑτ¿ - 1994.djvu\n"
     ]
    },
    {
     "data": {
      "application/vnd.jupyter.widget-view+json": {
       "model_id": "f4de468ffa6541129b2672749c8d6598",
       "version_major": 2,
       "version_minor": 0
      },
      "text/plain": [
       "0it [00:00, ?it/s]"
      ]
     },
     "metadata": {},
     "output_type": "display_data"
    },
    {
     "name": "stdout",
     "output_type": "stream",
     "text": [
      "/home/alex/Proga/Project/books/üÑα¡áαñÑ¡ ñÑ-æÑ¡-Å∞Ñα. Å«½∞ ¿ é¿αú¿¡¿∩. ê¡ñ¿⌐ß¬á∩ σ¿ª¿¡á - 1937.djvu\n"
     ]
    },
    {
     "data": {
      "application/vnd.jupyter.widget-view+json": {
       "model_id": "0a252daaf48d45fb8e7a8c07fe84ce79",
       "version_major": 2,
       "version_minor": 0
      },
      "text/plain": [
       "0it [00:00, ?it/s]"
      ]
     },
     "metadata": {},
     "output_type": "display_data"
    },
    {
     "name": "stdout",
     "output_type": "stream",
     "text": [
      "/home/alex/Proga/Project/books/Ç¡¡Ñ¡¬«ó ₧. - ÿΓπα¼á¡«¬ »α«¬½áñδóáÑΓ ¬παß (üÅìö) - 1972.djvu\n"
     ]
    },
    {
     "data": {
      "application/vnd.jupyter.widget-view+json": {
       "model_id": "799054753ba8431f9e7d9c5372306ef9",
       "version_major": 2,
       "version_minor": 0
      },
      "text/plain": [
       "0it [00:00, ?it/s]"
      ]
     },
     "metadata": {},
     "output_type": "display_data"
    }
   ],
   "source": [
    "for num, file in enumerate(os.listdir(book_path)):\n",
    "    if file.endswith(\".djvu\"):\n",
    "        book = os.path.join(book_path, file)\n",
    "        print(book)\n",
    "        get_text(book, num)"
   ]
  }
 ],
 "metadata": {
  "kernelspec": {
   "display_name": "Python 3 (ipykernel)",
   "language": "python",
   "name": "python3"
  },
  "language_info": {
   "codemirror_mode": {
    "name": "ipython",
    "version": 3
   },
   "file_extension": ".py",
   "mimetype": "text/x-python",
   "name": "python",
   "nbconvert_exporter": "python",
   "pygments_lexer": "ipython3",
   "version": "3.9.2"
  }
 },
 "nbformat": 4,
 "nbformat_minor": 5
}
