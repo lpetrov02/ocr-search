{
 "cells": [
  {
   "cell_type": "code",
   "execution_count": 57,
   "id": "e8b4c2e6",
   "metadata": {},
   "outputs": [
    {
     "name": "stdout",
     "output_type": "stream",
     "text": [
      "The autoreload extension is already loaded. To reload it, use:\n",
      "  %reload_ext autoreload\n"
     ]
    }
   ],
   "source": [
    "%load_ext autoreload"
   ]
  },
  {
   "cell_type": "code",
   "execution_count": 206,
   "id": "0a573b6f",
   "metadata": {},
   "outputs": [],
   "source": [
    "from tqdm.notebook import tqdm\n",
    "\n",
    "import argparse\n",
    "import os\n",
    "import sys\n",
    "\n",
    "import cairo\n",
    "import djvu.decode\n",
    "\n",
    "import cv2\n",
    "import numpy as np\n",
    "import pandas as pd\n",
    "import matplotlib.pyplot as plt\n",
    "\n",
    "from urllib.request import urlopen\n",
    "from io import BytesIO\n",
    "from zipfile import ZipFile"
   ]
  },
  {
   "cell_type": "code",
   "execution_count": 59,
   "id": "2de7a734",
   "metadata": {},
   "outputs": [],
   "source": [
    "%autoreload 5\n",
    "from crop_letters.crop_letters import contour_letters, letter_28x28, contour_letters_draw, binary"
   ]
  },
  {
   "cell_type": "code",
   "execution_count": 321,
   "id": "25617aca",
   "metadata": {},
   "outputs": [],
   "source": [
    "cairo_pixel_format = cairo.FORMAT_ARGB32\n",
    "djvu_pixel_format = djvu.decode.PixelFormatRgbMask(0xFF0000, 0xFF00, 0xFF, bpp=32)\n",
    "djvu_pixel_format.rows_top_to_bottom = 1\n",
    "djvu_pixel_format.y_top_to_bottom = 0\n",
    "dataset_path = \"/home/alex/Proga/Project/dataset/\"\n",
    "\n",
    "class Context(djvu.decode.Context):\n",
    "\n",
    "    def process(self, djvu_path, mode, num=0, pages=[]):\n",
    "        document = self.new_document(djvu.decode.FileURI(djvu_path))\n",
    "        for i, page in tqdm(enumerate(document.pages)):\n",
    "            page.get_info(wait=True)\n",
    "            if (i not in pages and pages != []) or i < 5:\n",
    "                continue\n",
    "            page_job = page.decode(wait=True)\n",
    "            width, height = page_job.size\n",
    "            rect = (0, 0, width, height)\n",
    "            bytes_per_line = cairo.ImageSurface.format_stride_for_width(cairo_pixel_format, width)\n",
    "            assert bytes_per_line % 4 == 0\n",
    "            color_buffer = np.zeros((height, bytes_per_line // 4), dtype=np.uint32)\n",
    "            page_job.render(mode, rect, rect, djvu_pixel_format, row_alignment=bytes_per_line,\n",
    "                            buffer=color_buffer)\n",
    "            mask_buffer = np.zeros((height, bytes_per_line // 4), dtype=np.uint32)\n",
    "            if mode == djvu.decode.RENDER_FOREGROUND:\n",
    "                page_job.render(djvu.decode.RENDER_MASK_ONLY, rect, rect, djvu_pixel_format,\n",
    "                                row_alignment=bytes_per_line, buffer=mask_buffer)\n",
    "                mask_buffer <<= 24\n",
    "                color_buffer |= mask_buffer\n",
    "            color_buffer ^= 0xFF000000\n",
    "            surface = cairo.ImageSurface.create_for_data(color_buffer, cairo_pixel_format, width, height)\n",
    "            surface.write_to_png(\"temp/_temp.png\")\n",
    "            \n",
    "            img = cv2.imread(\"temp/_temp.png\")\n",
    "            gray = cv2.cvtColor(img, cv2.COLOR_BGR2GRAY)\n",
    "            _, bi = binary(gray)\n",
    "                        \n",
    "            coeff = 1 #2500/img.shape[0]\n",
    "            \n",
    "            cut_text(page.text.sexpr, bi, coeff, num)"
   ]
  },
  {
   "cell_type": "code",
   "execution_count": 324,
   "id": "88d7d5f5",
   "metadata": {},
   "outputs": [],
   "source": [
    "def get_text(djvu_path, num=0, pages=[]):\n",
    "    mode=djvu.decode.RENDER_COLOR\n",
    "    context = Context()\n",
    "    context.process(djvu_path, mode, num)\n",
    "    \n",
    "def six_digits():\n",
    "    number = str(np.random.randint(0, 1000000))\n",
    "    while len(number) < 6:\n",
    "        number = \"0\" + number\n",
    "    return number\n",
    "\n",
    "def cut_text(sexpr, bi, coeff, num):\n",
    "    if isinstance(sexpr, djvu.sexpr.ListExpression):\n",
    "        if len(sexpr) == 0:\n",
    "            return\n",
    "        part = str(sexpr[0].value)\n",
    "        if part == \"page\":\n",
    "            _, _, H, W = [sexpr[i].value for i in range(1, 5)]\n",
    "            bi = cv2.resize(bi, (H, W), cv2.INTER_LINEAR)\n",
    "        if part == \"word\":\n",
    "            eps = 10\n",
    "            (x1, y1, x2, y2) = [sexpr[i].value for i in range(1, 5)]\n",
    "            word = sexpr[5].as_string(escape_unicode=False)[1:-1]\n",
    "            #word = str(sexpr[5])[1:-1]\n",
    "            flag = 1\n",
    "            for char in word:\n",
    "                if char == '\\\\':\n",
    "                    flag = 0\n",
    "            if (flag):\n",
    "                H, W = bi.shape\n",
    "                word_img = bi[-y2-eps:-y1+eps, x1-eps:x2+eps]\n",
    "                '''print(\"------>\", word)\n",
    "                plt.imshow(word_img, cmap='gray')\n",
    "                plt.show()\n",
    "                contour_letters_draw(word_img)\n",
    "                plt.show()'''\n",
    "\n",
    "                '''(w, h) = (int(word_img.shape[1]*coeff), int(word_img.shape[0]*coeff))\n",
    "\n",
    "                if coeff < 1:\n",
    "                    word_img = cv2.resize(word_img, (w, h), cv2.INTER_AREA)\n",
    "                else:\n",
    "                    word_img = cv2.resize(word_img, (w, h), cv2.INTER_LINEAR)'''\n",
    "                \n",
    "                rectangles = contour_letters(word_img)\n",
    "                #plt.figure(figsize=(10, 10))\n",
    "                for i, rec in enumerate(rectangles):\n",
    "                    (x, y, w, h) = rec\n",
    "                    letter = letter_28x28(word_img[y:y+h, x:x+w])\n",
    "                    if i >= len(word):\n",
    "                        break\n",
    "                    if word[i] == \"/\":\n",
    "                        continue\n",
    "                    '''plt.subplot(1, len(word), i+1)\n",
    "                    plt.title(word[i])\n",
    "                    plt.imshow(letter, cmap='gray')'''\n",
    "                    folder_name = dataset_path + \"<\" + word[i] + \">\"\n",
    "                    if not os.path.exists(folder_name):\n",
    "                        os.mkdir(folder_name)\n",
    "                    cv2.imwrite(folder_name + \"/\" + str(num) + \"-\" + six_digits() + \".png\", letter)\n",
    "                plt.show()\n",
    "                    \n",
    "        for child in sexpr[5:]:\n",
    "            cut_text(child, bi, coeff, num)"
   ]
  },
  {
   "cell_type": "code",
   "execution_count": 314,
   "id": "6163cb81",
   "metadata": {},
   "outputs": [],
   "source": [
    "book_path = \"/home/alex/Proga/Project/books\"\n",
    "\n",
    "def download_and_unzip(url, extract_to=book_path):\n",
    "    http_response = urlopen(url)\n",
    "    zipfile = ZipFile(BytesIO(http_response.read()))\n",
    "    zipfile.extractall(path=extract_to)"
   ]
  },
  {
   "cell_type": "code",
   "execution_count": 288,
   "id": "6c3b9529",
   "metadata": {
    "scrolled": true
   },
   "outputs": [
    {
     "data": {
      "text/html": [
       "<div>\n",
       "<style scoped>\n",
       "    .dataframe tbody tr th:only-of-type {\n",
       "        vertical-align: middle;\n",
       "    }\n",
       "\n",
       "    .dataframe tbody tr th {\n",
       "        vertical-align: top;\n",
       "    }\n",
       "\n",
       "    .dataframe thead th {\n",
       "        text-align: right;\n",
       "    }\n",
       "</style>\n",
       "<table border=\"1\" class=\"dataframe\">\n",
       "  <thead>\n",
       "    <tr style=\"text-align: right;\">\n",
       "      <th></th>\n",
       "      <th>djvu_link</th>\n",
       "    </tr>\n",
       "  </thead>\n",
       "  <tbody>\n",
       "    <tr>\n",
       "      <th>0</th>\n",
       "      <td>http://publ.lib.ru/ARCHIVES/A/''Antichnaya_kla...</td>\n",
       "    </tr>\n",
       "    <tr>\n",
       "      <th>1</th>\n",
       "      <td>http://publ.lib.ru/ARCHIVES/A/''Akkumulyatory_...</td>\n",
       "    </tr>\n",
       "    <tr>\n",
       "      <th>2</th>\n",
       "      <td>http://publ.lib.ru/ARCHIVES/A/''Altayskiy_vest...</td>\n",
       "    </tr>\n",
       "    <tr>\n",
       "      <th>3</th>\n",
       "      <td>http://publ.lib.ru/ARCHIVES/A/''Antichnaya_kla...</td>\n",
       "    </tr>\n",
       "    <tr>\n",
       "      <th>4</th>\n",
       "      <td>http://publ.lib.ru/ARCHIVES/A/''Antichnaya_kla...</td>\n",
       "    </tr>\n",
       "  </tbody>\n",
       "</table>\n",
       "</div>"
      ],
      "text/plain": [
       "                                           djvu_link\n",
       "0  http://publ.lib.ru/ARCHIVES/A/''Antichnaya_kla...\n",
       "1  http://publ.lib.ru/ARCHIVES/A/''Akkumulyatory_...\n",
       "2  http://publ.lib.ru/ARCHIVES/A/''Altayskiy_vest...\n",
       "3  http://publ.lib.ru/ARCHIVES/A/''Antichnaya_kla...\n",
       "4  http://publ.lib.ru/ARCHIVES/A/''Antichnaya_kla..."
      ]
     },
     "execution_count": 288,
     "metadata": {},
     "output_type": "execute_result"
    }
   ],
   "source": [
    "%autoreload 5\n",
    "good_links = pd.read_csv(\"/home/alex/Proga/Project/ocr-search/search/djvu_links.csv\")\n",
    "good_links.head()"
   ]
  },
  {
   "cell_type": "code",
   "execution_count": 316,
   "id": "11d00418",
   "metadata": {},
   "outputs": [],
   "source": [
    "if os.path.exists(dataset_path):\n",
    "        shutil.rmtree(dataset_path)\n",
    "os.mkdir(dataset_path)"
   ]
  },
  {
   "cell_type": "code",
   "execution_count": 325,
   "id": "15feb22e",
   "metadata": {},
   "outputs": [
    {
     "name": "stdout",
     "output_type": "stream",
     "text": [
      "/home/alex/Proga/Project/books/Ç¡Γ¿τ¡á∩ ñÑ¼«¬αáΓ¿∩ ó ßó¿ñÑΓÑ½∞ßΓóáσ ß«óαÑ¼Ñ¡¡¿¬«ó - 1996.djvu\n"
     ]
    },
    {
     "data": {
      "application/vnd.jupyter.widget-view+json": {
       "model_id": "8f9865125405419cbd401b23f69dcf1a",
       "version_major": 2,
       "version_minor": 0
      },
      "text/plain": [
       "0it [00:00, ?it/s]"
      ]
     },
     "metadata": {},
     "output_type": "display_data"
    }
   ],
   "source": [
    "for file in os.listdir(book_path):\n",
    "    if file.endswith(\".djvu\"):\n",
    "        book = os.path.join(book_path, file)\n",
    "        print(book)\n",
    "        get_text(book)"
   ]
  },
  {
   "cell_type": "code",
   "execution_count": null,
   "id": "65982e13",
   "metadata": {},
   "outputs": [],
   "source": [
    "for num, link in enumerate(good_links[\"djvu_link\"][0:5], start=1):\n",
    "    if os.path.exists(book_path):\n",
    "        shutil.rmtree(book_path)\n",
    "    \n",
    "    download_and_unzip(link)\n",
    "    \n",
    "    for file in os.listdir(book_path):\n",
    "        if file.endswith(\".djvu\"):\n",
    "            book = os.path.join(book_path, file)\n",
    "            print(book)\n",
    "            get_text(book, num)"
   ]
  }
 ],
 "metadata": {
  "kernelspec": {
   "display_name": "Python 3 (ipykernel)",
   "language": "python",
   "name": "python3"
  },
  "language_info": {
   "codemirror_mode": {
    "name": "ipython",
    "version": 3
   },
   "file_extension": ".py",
   "mimetype": "text/x-python",
   "name": "python",
   "nbconvert_exporter": "python",
   "pygments_lexer": "ipython3",
   "version": "3.9.2"
  }
 },
 "nbformat": 4,
 "nbformat_minor": 5
}
