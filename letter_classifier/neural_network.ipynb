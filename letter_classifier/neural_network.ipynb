{
 "cells": [
  {
   "cell_type": "code",
   "execution_count": 2,
   "id": "80119ad2",
   "metadata": {},
   "outputs": [],
   "source": [
    "import numpy as np\n",
    "import matplotlib.pyplot as plt\n",
    "import os\n",
    "import cv2\n",
    "\n",
    "%matplotlib inline"
   ]
  },
  {
   "cell_type": "code",
   "execution_count": 4,
   "id": "f856f0e6",
   "metadata": {},
   "outputs": [],
   "source": [
    "dataset_path = \"/home/alex/Proga/Project/final_dataset\"\n",
    "\n",
    "for letter_path in os.listdir(dataset_path):\n",
    "    path = dataset_path + \"/\" + letter_path + \"/\"\n",
    "    target = open(path + \"target.txt\", \"w\") \n",
    "    target.write(letter_path) \n",
    "    target.close() \n",
    "    "
   ]
  }
 ],
 "metadata": {
  "kernelspec": {
   "display_name": "Python 3 (ipykernel)",
   "language": "python",
   "name": "python3"
  },
  "language_info": {
   "codemirror_mode": {
    "name": "ipython",
    "version": 3
   },
   "file_extension": ".py",
   "mimetype": "text/x-python",
   "name": "python",
   "nbconvert_exporter": "python",
   "pygments_lexer": "ipython3",
   "version": "3.9.2"
  }
 },
 "nbformat": 4,
 "nbformat_minor": 5
}
