{
 "cells": [
  {
   "cell_type": "code",
   "execution_count": 1,
   "id": "a96ab80a",
   "metadata": {},
   "outputs": [],
   "source": [
    "import numpy as np\n",
    "import matplotlib.pyplot as plt\n",
    "import os\n",
    "import cv2\n",
    "import random\n",
    "import pickle\n",
    "\n",
    "%matplotlib inline"
   ]
  },
  {
   "cell_type": "code",
   "execution_count": 2,
   "id": "91da05f9",
   "metadata": {},
   "outputs": [],
   "source": [
    "letter2number = dict()\n",
    "number2letter = dict()\n",
    "data = [] #np.array([[]], dtype=np.ndarray)\n",
    "target = [] #np.array([[]], dtype=np.ndarray)\n",
    "number_of_classes = 91"
   ]
  },
  {
   "cell_type": "code",
   "execution_count": 3,
   "id": "9c960507",
   "metadata": {},
   "outputs": [],
   "source": [
    "def vectorized_result(letter):\n",
    "        e = np.zeros((number_of_classes, 1), dtype=np.float32)\n",
    "        e[letter2number[letter]] = 1.0\n",
    "        return e\n",
    "    \n",
    "def load_data(dataset_path):\n",
    "    letter2number.clear()\n",
    "    number2letter.clear()\n",
    "    data.clear()\n",
    "    target.clear()\n",
    "    for i, letter_path in enumerate(os.listdir(dataset_path)):\n",
    "        '''if (i > 10):\n",
    "            break'''\n",
    "        path = dataset_path + \"/\" + letter_path + \"/\"\n",
    "        target_letter = open(path + \"target.txt\", \"r\") \n",
    "        letter = str(target_letter.read())\n",
    "        number2letter[i] = letter\n",
    "        letter2number[letter] = i\n",
    "\n",
    "        files = os.listdir(path)\n",
    "        for j, picture_path in enumerate(files):\n",
    "            if picture_path.endswith(\".png\"):\n",
    "                img = cv2.imread(path + \"/\" + picture_path)\n",
    "                gray = cv2.cvtColor(img, cv2.COLOR_BGR2GRAY)\n",
    "                picture = 1 - gray/255\n",
    "                #plt.subplot(1, len(files), j+1)\n",
    "                #plt.title(picture_path)\n",
    "                #plt.imshow(picture)\n",
    "                data.append(np.array(picture, dtype=np.float32)) #.reshape(-1, 1)\n",
    "                target.append(i)#vectorized_result(letter))\n",
    "    #plt.show()\n",
    "    d = np.array(data, dtype=np.ndarray)\n",
    "    d = d.reshape((d.shape[0], d.shape[1], d.shape[2], 1))\n",
    "    t = np.array(target, dtype=np.ndarray)\n",
    "    #d = np.asarray(d).astype(np.float32)\n",
    "    #t = np.asarray(t).astype(np.float32)\n",
    "    return (d, t)"
   ]
  },
  {
   "cell_type": "code",
   "execution_count": 5,
   "id": "4a6377de",
   "metadata": {},
   "outputs": [
    {
     "name": "stdout",
     "output_type": "stream",
     "text": [
      "(99935, 28, 28, 1) (99935,)\n"
     ]
    }
   ],
   "source": [
    "(X, y) = load_data(\"/home/alex/Proga/Project/second_dataset\")\n",
    "print(X.shape, y.shape)\n",
    "#print(y)"
   ]
  },
  {
   "cell_type": "code",
   "execution_count": 15,
   "id": "aef33105",
   "metadata": {
    "scrolled": false
   },
   "outputs": [],
   "source": [
    "dataset_file = open(\"/home/alex/Proga/Project/second_dataset.pickle\", \"wb\")\n",
    "pickle.dump((X, y), dataset_file)"
   ]
  },
  {
   "cell_type": "code",
   "execution_count": 13,
   "id": "033133ae",
   "metadata": {},
   "outputs": [
    {
     "name": "stdout",
     "output_type": "stream",
     "text": [
      "{0: 'q', 1: 'ш', 2: ';', 3: 'd', 4: 'х', 5: 'щ', 6: 'i', 7: 'ь', 8: '%', 9: '=', 10: 'o', 11: '!', 12: 'ы', 13: 'w', 14: 'ю', 15: 'f', 16: 'д', 17: '[', 18: 'ц', 19: '>', 20: '(', 21: '}', 22: 'в', 23: 'р', 24: '^', 25: 'n', 26: '-', 27: '\\\\', 28: '?', 29: 'л', 30: '+', 31: '~', 32: '&', 33: ']', 34: '`', 35: 'j', 36: 'l', 37: 'b', 38: '|', 39: 'я', 40: '{', 41: 'м', 42: 's', 43: 'a', 44: 'з', 45: 'й', 46: 'г', 47: 'к', 48: 'c', 49: '<', 50: '/', 51: '.', 52: 'б', 53: '\"', 54: 'ё', 55: 'с', 56: '*', 57: 'r', 58: 'э', 59: 'z', 60: ')', 61: 'ъ', 62: 'е', 63: 'ф', 64: 'g', 65: ':', 66: 'п', 67: 'ч', 68: 'о', 69: 'и', 70: 'p', 71: 'а', 72: \"'\", 73: 'y', 74: 'u', 75: '#', 76: 'm', 77: 'ж', 78: 'e', 79: 'k', 80: '_', 81: 'h', 82: '$', 83: 'т', 84: 'x', 85: '@', 86: ',', 87: 't', 88: 'у', 89: 'н', 90: 'v'}\n"
     ]
    }
   ],
   "source": [
    "mapping_file = open(\"/home/alex/Proga/Project/letter_mapping.pickle\", \"wb\")\n",
    "pickle.dump(number2letter, mapping_file)\n",
    "print(number2letter)"
   ]
  },
  {
   "cell_type": "code",
   "execution_count": 8,
   "id": "ff1e1ecc",
   "metadata": {},
   "outputs": [
    {
     "name": "stdout",
     "output_type": "stream",
     "text": [
      "(99935, 28, 28, 1) (99935,)\n"
     ]
    }
   ],
   "source": [
    "dataset_file_read = open(\"/home/alex/Proga/Project/second_dataset.pickle\", \"rb\")\n",
    "(X_, y_) = pickle.load(dataset_file_read)\n",
    "print(X_.shape, y_.shape)"
   ]
  },
  {
   "cell_type": "code",
   "execution_count": 14,
   "id": "8f73d861",
   "metadata": {},
   "outputs": [
    {
     "name": "stdout",
     "output_type": "stream",
     "text": [
      "{0: 'q', 1: 'ш', 2: ';', 3: 'd', 4: 'х', 5: 'щ', 6: 'i', 7: 'ь', 8: '%', 9: '=', 10: 'o', 11: '!', 12: 'ы', 13: 'w', 14: 'ю', 15: 'f', 16: 'д', 17: '[', 18: 'ц', 19: '>', 20: '(', 21: '}', 22: 'в', 23: 'р', 24: '^', 25: 'n', 26: '-', 27: '\\\\', 28: '?', 29: 'л', 30: '+', 31: '~', 32: '&', 33: ']', 34: '`', 35: 'j', 36: 'l', 37: 'b', 38: '|', 39: 'я', 40: '{', 41: 'м', 42: 's', 43: 'a', 44: 'з', 45: 'й', 46: 'г', 47: 'к', 48: 'c', 49: '<', 50: '/', 51: '.', 52: 'б', 53: '\"', 54: 'ё', 55: 'с', 56: '*', 57: 'r', 58: 'э', 59: 'z', 60: ')', 61: 'ъ', 62: 'е', 63: 'ф', 64: 'g', 65: ':', 66: 'п', 67: 'ч', 68: 'о', 69: 'и', 70: 'p', 71: 'а', 72: \"'\", 73: 'y', 74: 'u', 75: '#', 76: 'm', 77: 'ж', 78: 'e', 79: 'k', 80: '_', 81: 'h', 82: '$', 83: 'т', 84: 'x', 85: '@', 86: ',', 87: 't', 88: 'у', 89: 'н', 90: 'v'}\n"
     ]
    }
   ],
   "source": [
    "mapping_file_read = open(\"/home/alex/Proga/Project/letter_mapping.pickle\", \"rb\")\n",
    "letter_mapping = pickle.load(mapping_file_read)\n",
    "print(letter_mapping)"
   ]
  }
 ],
 "metadata": {
  "kernelspec": {
   "display_name": "Python 3 (ipykernel)",
   "language": "python",
   "name": "python3"
  },
  "language_info": {
   "codemirror_mode": {
    "name": "ipython",
    "version": 3
   },
   "file_extension": ".py",
   "mimetype": "text/x-python",
   "name": "python",
   "nbconvert_exporter": "python",
   "pygments_lexer": "ipython3",
   "version": "3.9.2"
  }
 },
 "nbformat": 4,
 "nbformat_minor": 5
}
