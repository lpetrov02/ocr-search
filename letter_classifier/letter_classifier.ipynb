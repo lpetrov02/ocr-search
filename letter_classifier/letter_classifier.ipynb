{
 "cells": [
  {
   "cell_type": "markdown",
   "metadata": {},
   "source": [
    "Подготовим данные:"
   ]
  },
  {
   "cell_type": "code",
   "execution_count": 1,
   "metadata": {},
   "outputs": [],
   "source": [
    "%matplotlib inline\n",
    "import numpy as np\n",
    "import matplotlib.pyplot as plt\n",
    "import os\n",
    "import cv2\n",
    "from crop_letters import contour_letters_cut_28x28"
   ]
  },
  {
   "cell_type": "code",
   "execution_count": 2,
   "metadata": {
    "scrolled": true
   },
   "outputs": [],
   "source": [
    "X, y = [], []\n",
    "\n",
    "def get_letter(dir_name):\n",
    "    prefix = ['big_', 'punct_', 'small_', 'большая_', 'маленькая_']\n",
    "    dict_for_bad_windows = {\n",
    "        'backslash': '\\\\', 'slash': '/', 'colon': ':', 'asterisk': '*', 'question': '?',\n",
    "        'quotation': '\"', 'less': '<', 'greater': '>', 'pipe': '|', 'point': '.'\n",
    "    }\n",
    "    letter_name = dir_name\n",
    "    for pref in prefix:\n",
    "        letter_name = letter_name.replace(pref, '')\n",
    "    if letter_name in dict_for_bad_windows:\n",
    "        letter_name = dict_for_bad_windows[letter_name]\n",
    "    return letter_name\n",
    "\n",
    "root_dir = 'C:\\\\Users\\\\Ася\\\\Desktop\\\\Папки\\\\Университет\\\\5 семестр\\\\Проект\\\\letters_dataset'\n",
    "dir_array = os.listdir(root_dir)\n",
    "for curr_dir in dir_array:\n",
    "    path = f'{root_dir}\\\\{curr_dir}'\n",
    "    curr_letter = get_letter(curr_dir)\n",
    "    path_files = os.listdir(path)\n",
    "    curr_letter = get_letter(curr_dir)\n",
    "    for i in range(len(path_files)):\n",
    "        #возможно, функция поменяется!!!\n",
    "        f = open(f'letters_dataset\\\\{curr_dir}\\\\{path_files[i]}', \"rb\")\n",
    "        chunk = f.read()\n",
    "        chunk_arr = np.frombuffer(chunk, dtype=np.uint8)\n",
    "        img = cv2.imdecode(chunk_arr, cv2.IMREAD_COLOR)\n",
    "        gray = cv2.cvtColor(img, cv2.COLOR_BGR2GRAY)\n",
    "        picture = contour_letters_cut_28x28(gray)\n",
    "        if picture is None or np.array(picture).shape[0] == 0:\n",
    "            continue\n",
    "        X.append(picture[0].flatten())\n",
    "        y.append(curr_letter)"
   ]
  },
  {
   "cell_type": "code",
   "execution_count": 3,
   "metadata": {},
   "outputs": [
    {
     "data": {
      "text/plain": [
       "array(['A', 'A', 'A', ..., 'я', 'я', 'я'], dtype='<U1')"
      ]
     },
     "execution_count": 3,
     "metadata": {},
     "output_type": "execute_result"
    }
   ],
   "source": [
    "X = np.array(X)\n",
    "y = np.array(y)\n",
    "y"
   ]
  },
  {
   "cell_type": "code",
   "execution_count": 4,
   "metadata": {},
   "outputs": [],
   "source": [
    "import random\n",
    "\n",
    "indexes = np.arange(y.shape[0])\n",
    "random.shuffle(indexes)\n",
    "X = X[indexes]\n",
    "y = y[indexes]"
   ]
  },
  {
   "cell_type": "code",
   "execution_count": 5,
   "metadata": {},
   "outputs": [],
   "source": [
    "from sklearn import preprocessing\n",
    "\n",
    "le = preprocessing.LabelEncoder()\n",
    "le.fit(y)\n",
    "class_arr = le.classes_\n",
    "label_arr = np.arange(class_arr.shape[0])\n",
    "from_label_get_class = dict(zip(label_arr, class_arr))\n",
    "z = le.transform(y)"
   ]
  },
  {
   "cell_type": "code",
   "execution_count": 6,
   "metadata": {},
   "outputs": [
    {
     "name": "stdout",
     "output_type": "stream",
     "text": [
      "(56972, 784) (14243, 784)\n",
      "(56972,) (14243,)\n"
     ]
    }
   ],
   "source": [
    "train_ind = (4 * y.shape[0]) // 5\n",
    "X_train, X_test = X[:train_ind, :], X[train_ind:, :]\n",
    "z_train, z_test = z[:train_ind], z[train_ind:]\n",
    "print(X_train.shape, X_test.shape)\n",
    "print(z_train.shape, z_test.shape)"
   ]
  },
  {
   "cell_type": "code",
   "execution_count": 7,
   "metadata": {},
   "outputs": [
    {
     "name": "stdout",
     "output_type": "stream",
     "text": [
      "{0: '!', 1: '\"', 2: '#', 3: '$', 4: '%', 5: '&', 6: \"'\", 7: '(', 8: ')', 9: '*', 10: '+', 11: ',', 12: '-', 13: '.', 14: '/', 15: ':', 16: ';', 17: '<', 18: '=', 19: '>', 20: '?', 21: '@', 22: 'A', 23: 'B', 24: 'C', 25: 'D', 26: 'E', 27: 'F', 28: 'G', 29: 'H', 30: 'I', 31: 'J', 32: 'K', 33: 'L', 34: 'M', 35: 'N', 36: 'O', 37: 'P', 38: 'Q', 39: 'R', 40: 'S', 41: 'T', 42: 'U', 43: 'V', 44: 'W', 45: 'X', 46: 'Y', 47: 'Z', 48: '[', 49: '\\\\', 50: ']', 51: '^', 52: '_', 53: '`', 54: 'a', 55: 'b', 56: 'c', 57: 'd', 58: 'e', 59: 'f', 60: 'g', 61: 'h', 62: 'i', 63: 'j', 64: 'k', 65: 'l', 66: 'm', 67: 'n', 68: 'o', 69: 'p', 70: 'q', 71: 'r', 72: 's', 73: 't', 74: 'u', 75: 'v', 76: 'w', 77: 'x', 78: 'y', 79: 'z', 80: '{', 81: '|', 82: '}', 83: '~', 84: 'Ё', 85: 'А', 86: 'Б', 87: 'В', 88: 'Г', 89: 'Д', 90: 'Е', 91: 'Ж', 92: 'З', 93: 'И', 94: 'Й', 95: 'К', 96: 'Л', 97: 'М', 98: 'Н', 99: 'О', 100: 'П', 101: 'Р', 102: 'С', 103: 'Т', 104: 'У', 105: 'Ф', 106: 'Х', 107: 'Ц', 108: 'Ч', 109: 'Ш', 110: 'Щ', 111: 'Ъ', 112: 'Ы', 113: 'Ь', 114: 'Э', 115: 'Ю', 116: 'Я', 117: 'а', 118: 'б', 119: 'в', 120: 'г', 121: 'д', 122: 'е', 123: 'ж', 124: 'з', 125: 'и', 126: 'й', 127: 'к', 128: 'л', 129: 'м', 130: 'н', 131: 'о', 132: 'п', 133: 'р', 134: 'с', 135: 'т', 136: 'у', 137: 'ф', 138: 'х', 139: 'ц', 140: 'ч', 141: 'ш', 142: 'щ', 143: 'ъ', 144: 'ы', 145: 'ь', 146: 'э', 147: 'ю', 148: 'я', 149: 'ё'}\n"
     ]
    }
   ],
   "source": [
    "print(from_label_get_class)"
   ]
  },
  {
   "cell_type": "markdown",
   "metadata": {},
   "source": [
    "Теперь обучим несколько вариантов классификаторов и сравним их между собой."
   ]
  },
  {
   "cell_type": "markdown",
   "metadata": {},
   "source": [
    "1) SVM с квадратичным ядром"
   ]
  },
  {
   "cell_type": "code",
   "execution_count": 8,
   "metadata": {},
   "outputs": [
    {
     "data": {
      "text/plain": [
       "SVC(degree=2, kernel='poly')"
      ]
     },
     "execution_count": 8,
     "metadata": {},
     "output_type": "execute_result"
    }
   ],
   "source": [
    "from sklearn import svm\n",
    "\n",
    "clf = svm.SVC(kernel = \"poly\", degree = 2)\n",
    "clf.fit(X_train, z_train)"
   ]
  },
  {
   "cell_type": "code",
   "execution_count": 9,
   "metadata": {},
   "outputs": [],
   "source": [
    "z_pred = clf.predict(X_test)"
   ]
  },
  {
   "cell_type": "code",
   "execution_count": 10,
   "metadata": {},
   "outputs": [
    {
     "name": "stdout",
     "output_type": "stream",
     "text": [
      "accuracy on test is 0.7459804816401039\n"
     ]
    }
   ],
   "source": [
    "from sklearn import metrics\n",
    "\n",
    "print(f'accuracy on test is {metrics.accuracy_score(z_test, z_pred)}')"
   ]
  },
  {
   "cell_type": "code",
   "execution_count": 13,
   "metadata": {},
   "outputs": [],
   "source": [
    "import pickle\n",
    "\n",
    "with open('svm_classifier_deg2.pickle', 'wb') as file:\n",
    "    pickle.dump(clf, file)"
   ]
  },
  {
   "cell_type": "markdown",
   "metadata": {},
   "source": [
    "2) SVM с кубическим ядром"
   ]
  },
  {
   "cell_type": "code",
   "execution_count": 14,
   "metadata": {},
   "outputs": [
    {
     "data": {
      "text/plain": [
       "SVC(kernel='poly')"
      ]
     },
     "execution_count": 14,
     "metadata": {},
     "output_type": "execute_result"
    }
   ],
   "source": [
    "clf = svm.SVC(kernel = \"poly\", degree = 3)\n",
    "clf.fit(X_train, z_train)"
   ]
  },
  {
   "cell_type": "code",
   "execution_count": 15,
   "metadata": {},
   "outputs": [],
   "source": [
    "z_pred = clf.predict(X_test)"
   ]
  },
  {
   "cell_type": "code",
   "execution_count": 16,
   "metadata": {},
   "outputs": [
    {
     "name": "stdout",
     "output_type": "stream",
     "text": [
      "accuracy on test is 0.7322193358140842\n"
     ]
    }
   ],
   "source": [
    "from sklearn import metrics\n",
    "\n",
    "print(f'accuracy on test is {metrics.accuracy_score(z_test, z_pred)}')"
   ]
  },
  {
   "cell_type": "code",
   "execution_count": 17,
   "metadata": {},
   "outputs": [],
   "source": [
    "with open('svm_classifier_deg3.pickle', 'wb') as file:\n",
    "    pickle.dump(clf, file)"
   ]
  },
  {
   "cell_type": "markdown",
   "metadata": {},
   "source": [
    "3) kNN при k = 10"
   ]
  },
  {
   "cell_type": "code",
   "execution_count": 18,
   "metadata": {},
   "outputs": [
    {
     "data": {
      "text/plain": [
       "KNeighborsClassifier(n_neighbors=10)"
      ]
     },
     "execution_count": 18,
     "metadata": {},
     "output_type": "execute_result"
    }
   ],
   "source": [
    "from sklearn import neighbors\n",
    "\n",
    "clf = neighbors.KNeighborsClassifier(n_neighbors = 10, weights='uniform')\n",
    "clf.fit(X_train, z_train)"
   ]
  },
  {
   "cell_type": "code",
   "execution_count": 19,
   "metadata": {},
   "outputs": [],
   "source": [
    "z_pred = clf.predict(X_test)"
   ]
  },
  {
   "cell_type": "code",
   "execution_count": 20,
   "metadata": {},
   "outputs": [
    {
     "name": "stdout",
     "output_type": "stream",
     "text": [
      "accuracy on test is 0.7251983430457066\n"
     ]
    }
   ],
   "source": [
    "print(f'accuracy on test is {metrics.accuracy_score(z_test, z_pred)}')"
   ]
  },
  {
   "cell_type": "code",
   "execution_count": 21,
   "metadata": {},
   "outputs": [],
   "source": [
    "with open('knn_classifier_k10.pickle', 'wb') as file:\n",
    "    pickle.dump(clf, file)"
   ]
  },
  {
   "cell_type": "markdown",
   "metadata": {},
   "source": [
    "4) случайный лес"
   ]
  },
  {
   "cell_type": "code",
   "execution_count": 35,
   "metadata": {},
   "outputs": [
    {
     "name": "stdout",
     "output_type": "stream",
     "text": [
      "accuracy on test is 0.7462964263146808\n"
     ]
    }
   ],
   "source": [
    "from sklearn.ensemble import RandomForestClassifier\n",
    "\n",
    "rc = RandomForestClassifier(n_estimators = 150)\n",
    "rc.fit(X_train.reshape((-1, 784)), z_train)\n",
    "z_pred = rc.predict(X_test.reshape((-1, 784)))\n",
    "print(f'accuracy on test is {metrics.accuracy_score(z_test, z_pred)}')"
   ]
  }
 ],
 "metadata": {
  "kernelspec": {
   "display_name": "Python 3 (ipykernel)",
   "language": "python",
   "name": "python3"
  },
  "language_info": {
   "codemirror_mode": {
    "name": "ipython",
    "version": 3
   },
   "file_extension": ".py",
   "mimetype": "text/x-python",
   "name": "python",
   "nbconvert_exporter": "python",
   "pygments_lexer": "ipython3",
   "version": "3.9.2"
  }
 },
 "nbformat": 4,
 "nbformat_minor": 2
}
