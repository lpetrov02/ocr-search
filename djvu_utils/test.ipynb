{
 "cells": [
  {
   "cell_type": "code",
   "execution_count": 1,
   "id": "1a646a12",
   "metadata": {},
   "outputs": [],
   "source": [
    "%load_ext autoreload"
   ]
  },
  {
   "cell_type": "code",
   "execution_count": 2,
   "id": "c8d4a2d5",
   "metadata": {},
   "outputs": [],
   "source": [
    "%autoreload 2\n",
    "\n",
    "import djvu2pngs as transform\n",
    "import get_text\n",
    "import os\n",
    "import glob\n",
    "import shutil"
   ]
  },
  {
   "cell_type": "code",
   "execution_count": 3,
   "id": "e40b6e04",
   "metadata": {},
   "outputs": [
    {
     "data": {
      "application/vnd.jupyter.widget-view+json": {
       "model_id": "5c8846d05aca43d7b256d829469cdfc6",
       "version_major": 2,
       "version_minor": 0
      },
      "text/plain": [
       "0it [00:00, ?it/s]"
      ]
     },
     "metadata": {},
     "output_type": "display_data"
    }
   ],
   "source": [
    "name = \"DjVu_Tech_Primer\"\n",
    "\n",
    "if os.path.exists(name):\n",
    "    shutil.rmtree(name)\n",
    "os.mkdir(name)\n",
    "\n",
    "transform.book2pngs(name + \".djvu\", name + \"/\")"
   ]
  },
  {
   "cell_type": "code",
   "execution_count": 5,
   "id": "ad326db8",
   "metadata": {
    "scrolled": false
   },
   "outputs": [
    {
     "data": {
      "application/vnd.jupyter.widget-view+json": {
       "model_id": "6b1ca56264d34910b336627b917458b1",
       "version_major": 2,
       "version_minor": 0
      },
      "text/plain": [
       "0it [00:00, ?it/s]"
      ]
     },
     "metadata": {},
     "output_type": "display_data"
    }
   ],
   "source": [
    "# Dump text\n",
    "\n",
    "book_name = \"DjVu_Tech_Primer\"\n",
    "text_file = book_name + \".txt\"\n",
    "\n",
    "get_text.dump_text(book_name + \".djvu\", text_file)"
   ]
  }
 ],
 "metadata": {
  "kernelspec": {
   "display_name": "Python 3 (ipykernel)",
   "language": "python",
   "name": "python3"
  },
  "language_info": {
   "codemirror_mode": {
    "name": "ipython",
    "version": 3
   },
   "file_extension": ".py",
   "mimetype": "text/x-python",
   "name": "python",
   "nbconvert_exporter": "python",
   "pygments_lexer": "ipython3",
   "version": "3.9.2"
  }
 },
 "nbformat": 4,
 "nbformat_minor": 5
}
