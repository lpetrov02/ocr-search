{
 "cells": [
  {
   "cell_type": "code",
   "execution_count": 1,
   "metadata": {
    "scrolled": false
   },
   "outputs": [
    {
     "data": {
      "text/plain": [
       "'                 '"
      ]
     },
     "execution_count": 1,
     "metadata": {},
     "output_type": "execute_result"
    }
   ],
   "source": [
    "import os\n",
    "import matplotlib.pyplot as plt\n",
    "\n",
    "fonts = ['Arial', 'Comic Sans MS',\n",
    "         'Courier New', 'Georgia', 'Impact',\n",
    "         'Lucida Console', 'Lucida Sans Unicode',\n",
    "         'Palatino Linotype', 'Tahoma', 'Times New Roman',\n",
    "         'Trebuchet MS', 'Verdana',\n",
    "        ]\n",
    "\n",
    "sizes = [75, 100, 125, 150]\n",
    "styles = ['normal', 'italic']\n",
    "rotations = [-10, -5, 0, 5, 10]\n",
    "\n",
    "english_small = '''abcdefghijklmnopqrstuvwxyz'''\n",
    "english_big = '''ABCDEFGHIJKLMNOPQRSTUVWXYZ'''\n",
    "russian_small = '''абвгдеёжзийклмнопрстуфхцчшщъыьэюя'''\n",
    "russian_big = '''АБВГДЕЁЖЗИЙКЛМНОПРСТУФХЦЧШЩЪЫЬЭЮЯ'''\n",
    "punct = '''!\"#$%&'()*+, -./:;<=>?@[\\]^_`{|}~'''\n",
    "bad_windows = {'\\\\': 'backslash', '/': 'slash', ':': 'colon', '*': 'asterisk', '?': 'question',\n",
    "               '\"': 'quotation', '<': 'less', '>': 'greater', '|': 'pipe', '.': 'point'\n",
    "              }\n",
    "letters = english_small + english_big + russian_small + russian_big + punct\n",
    "\n",
    "os.mkdir('letters_dataset')\n",
    "\n",
    "for letter in letters:\n",
    "    iteration = 1\n",
    "    path = 'letters_dataset\\\\'\n",
    "    if letter in english_small:\n",
    "        path += ('small_' + letter)\n",
    "    elif letter in english_big:\n",
    "        path += ('big_' + letter)\n",
    "    elif letter in russian_small:\n",
    "        path += ('маленькая_' + letter)\n",
    "    elif letter in russian_big:\n",
    "        path += ('большая_' + letter)\n",
    "    elif letter in punct:\n",
    "        path += 'punct_'\n",
    "        if letter in bad_windows.keys():\n",
    "            path += bad_windows[letter]\n",
    "        elif letter in '\\\\':\n",
    "            path += bad_windows['\\\\']\n",
    "        else:\n",
    "            path += letter\n",
    "    os.mkdir(path)\n",
    "    for font in fonts:\n",
    "        for size in sizes:\n",
    "            for style in styles:\n",
    "                for rot in rotations:\n",
    "                    curr_dict = {'fontname': font}\n",
    "                    fig = plt.figure(figsize=(3,3))\n",
    "                    ax = fig.add_subplot()\n",
    "                    ax.axis([0, 10, 0, 10])\n",
    "                    ax.text(3, 3, letter, fontsize=size, rotation=rot, fontstyle=style, **curr_dict)\n",
    "                    plt.axis('off')\n",
    "                    fig.savefig(path + '''\\\\''' + str(iteration) + '.png')\n",
    "                    iteration += 1\n",
    ";                  "
   ]
  },
  {
   "cell_type": "code",
   "execution_count": null,
   "metadata": {},
   "outputs": [],
   "source": []
  }
 ],
 "metadata": {
  "kernelspec": {
   "display_name": "Python 3 (ipykernel)",
   "language": "python",
   "name": "python3"
  },
  "language_info": {
   "codemirror_mode": {
    "name": "ipython",
    "version": 3
   },
   "file_extension": ".py",
   "mimetype": "text/x-python",
   "name": "python",
   "nbconvert_exporter": "python",
   "pygments_lexer": "ipython3",
   "version": "3.9.2"
  }
 },
 "nbformat": 4,
 "nbformat_minor": 2
}
