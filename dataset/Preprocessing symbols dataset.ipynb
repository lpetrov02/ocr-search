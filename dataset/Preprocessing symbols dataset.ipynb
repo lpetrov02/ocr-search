{
 "cells": [
  {
   "cell_type": "code",
   "execution_count": 1,
   "id": "4a705e12",
   "metadata": {},
   "outputs": [],
   "source": [
    "import cv2\n",
    "import numpy as np\n",
    "from crop_letters import contour_letters, letter_28x28, binary, contour_letters_draw\n",
    "\n",
    "\n",
    "def make_white_frame(image, frame_sz=10):\n",
    "    w, h = image.shape[:2]\n",
    "    result_image = 255 * np.ones((w + 2 * frame_sz, h + 2 * frame_sz, 3), dtype=np.uint8)\n",
    "    for i in range(w):\n",
    "        for j in range(h):\n",
    "            result_image[i + 10, j + 10, :] = image[i, j, :]\n",
    "    return result_image\n",
    "    \n",
    "\n",
    "def image_preprocess(path_to_image, transparent_flag=False):\n",
    "    img = cv2.imread(path_to_image)\n",
    "    if transparent_flag:\n",
    "        img = cv2.imread(path_to_image, cv2.IMREAD_UNCHANGED)\n",
    "        last_col = 255 - img[:, :, 3]\n",
    "        img = np.dstack((last_col, last_col, last_col))\n",
    "    resized_image = cv2.resize(img, (60, 60), cv2.INTER_LINEAR)\n",
    "    img_with_frame = make_white_frame(resized_image)\n",
    "    gray = cv2.cvtColor(img_with_frame, cv2.COLOR_BGR2GRAY)\n",
    "    _, bi = binary(gray)\n",
    "    img_erode = cv2.erode(bi, np.ones((1, 7), np.uint8), iterations=1)\n",
    "    rectangles = contour_letters(img_erode)\n",
    "    if not len(rectangles):\n",
    "        return None\n",
    "    (x, y, w, h) = rectangles[0]\n",
    "    letter = letter_28x28(gray[y:(y + h), x:(x + w)])\n",
    "    return letter\n"
   ]
  },
  {
   "cell_type": "code",
   "execution_count": 2,
   "id": "091b70be",
   "metadata": {},
   "outputs": [
    {
     "data": {
      "image/png": "[encoded data removed]",
      "text/plain": [
       "<Figure size 432x288 with 1 Axes>"
      ]
     },
     "metadata": {
      "needs_background": "light"
     },
     "output_type": "display_data"
    }
   ],
   "source": [
    "import matplotlib.pyplot as plt\n",
    "\n",
    "path_to_example = '/home/asya/letters_dataset/маленькая_ы/1.png'\n",
    "example_picture = cv2.imread(path_to_example)\n",
    "plt.imshow(example_picture)\n",
    "plt.show()"
   ]
  },
  {
   "cell_type": "code",
   "execution_count": 3,
   "id": "53355dd5",
   "metadata": {},
   "outputs": [
    {
     "data": {
      "image/png": "[encoded data removed]",
      "text/plain": [
       "<Figure size 432x288 with 1 Axes>"
      ]
     },
     "metadata": {
      "needs_background": "light"
     },
     "output_type": "display_data"
    }
   ],
   "source": [
    "letter = image_preprocess(path_to_example)\n",
    "plt.imshow(letter, cmap='gray')\n",
    "plt.show()"
   ]
  },
  {
   "cell_type": "code",
   "execution_count": 4,
   "id": "cdfa92d8",
   "metadata": {},
   "outputs": [],
   "source": [
    "import os\n",
    "\n",
    "PATH_TO_OUR_DATASET = '/home/asya/letters_dataset'\n",
    "NEW_DATASET_DIR = '/home/asya/final_dataset'"
   ]
  },
  {
   "cell_type": "code",
   "execution_count": 5,
   "id": "5c887ba4",
   "metadata": {},
   "outputs": [],
   "source": [
    "PATH_TO_OUR_DATASET = '/home/asya/letters_dataset'\n",
    "\n",
    "os.mkdir(NEW_DATASET_DIR)\n",
    "\n",
    "counter = 0\n",
    "\n",
    "for symbol_dir in os.listdir(PATH_TO_OUR_DATASET):\n",
    "    cur_dir = PATH_TO_OUR_DATASET + '/' + symbol_dir\n",
    "    \n",
    "    curr_class = symbol_dir\n",
    "    for pattern in ['big', 'small', 'большая', 'маленькая', 'punct']:\n",
    "        if pattern in curr_class:\n",
    "            curr_class = symbol_dir[(len(pattern) + 1):].lower()\n",
    "            break\n",
    "    if not os.path.exists(NEW_DATASET_DIR + '/' + curr_class):\n",
    "        os.mkdir(NEW_DATASET_DIR + '/' + curr_class)\n",
    "    \n",
    "    for image_name in os.listdir(cur_dir):\n",
    "        path_to_image = cur_dir + '/' + image_name\n",
    "        resized_image = image_preprocess(path_to_image)\n",
    "        if resized_image is None:\n",
    "            continue\n",
    "        new_image_name = str(counter) + '.png'\n",
    "        counter += 1\n",
    "        cv2.imwrite(NEW_DATASET_DIR + '/' + curr_class + '/' + new_image_name, resized_image)"
   ]
  },
  {
   "cell_type": "code",
   "execution_count": 6,
   "id": "8b2e1226",
   "metadata": {
    "scrolled": true
   },
   "outputs": [
    {
     "data": {
      "image/png": "[encoded data removed]",
      "text/plain": [
       "<Figure size 432x288 with 1 Axes>"
      ]
     },
     "metadata": {
      "needs_background": "light"
     },
     "output_type": "display_data"
    }
   ],
   "source": [
    "comnist_example_path = '/home/asya/comnist/A/5a0d5cfd92c94.png'\n",
    "example_picture = cv2.imread(comnist_example_path, cv2.IMREAD_UNCHANGED)\n",
    "last_col = 255 - example_picture[:, :, 3]\n",
    "new_img = np.dstack((last_col, last_col, last_col))\n",
    "plt.imshow(new_img)\n",
    "plt.show()"
   ]
  },
  {
   "cell_type": "code",
   "execution_count": 7,
   "id": "88fb3429",
   "metadata": {
    "scrolled": false
   },
   "outputs": [
    {
     "data": {
      "image/png": "[encoded data removed]",
      "text/plain": [
       "<Figure size 432x288 with 1 Axes>"
      ]
     },
     "metadata": {
      "needs_background": "light"
     },
     "output_type": "display_data"
    }
   ],
   "source": [
    "letter = image_preprocess(comnist_example_path, transparent_flag=True)\n",
    "plt.imshow(letter, cmap='gray')\n",
    "plt.show()"
   ]
  },
  {
   "cell_type": "code",
   "execution_count": 8,
   "id": "d2ae8736",
   "metadata": {},
   "outputs": [],
   "source": [
    "COMNIST_PATH = '/home/asya/comnist'\n",
    "\n",
    "for symbol_dir in os.listdir(COMNIST_PATH):\n",
    "    cur_dir = COMNIST_PATH + '/' + symbol_dir\n",
    "    \n",
    "    curr_class = symbol_dir.lower()\n",
    "    if not os.path.exists(NEW_DATASET_DIR + '/' + curr_class):\n",
    "        os.mkdir(NEW_DATASET_DIR + '/' + curr_class)\n",
    "    \n",
    "    for image_name in os.listdir(cur_dir):\n",
    "        path_to_image = cur_dir + '/' + image_name\n",
    "        resized_image = image_preprocess(path_to_image, transparent_flag=True)\n",
    "        if resized_image is None:\n",
    "            continue\n",
    "        new_image_name = str(counter) + '.png'\n",
    "        counter += 1\n",
    "        cv2.imwrite(NEW_DATASET_DIR + '/' + curr_class + '/' + new_image_name, resized_image)"
   ]
  },
  {
   "cell_type": "code",
   "execution_count": null,
   "id": "82b565c5",
   "metadata": {},
   "outputs": [],
   "source": []
  }
 ],
 "metadata": {
  "kernelspec": {
   "display_name": "Python 3 (ipykernel)",
   "language": "python",
   "name": "python3"
  },
  "language_info": {
   "codemirror_mode": {
    "name": "ipython",
    "version": 3
   },
   "file_extension": ".py",
   "mimetype": "text/x-python",
   "name": "python",
   "nbconvert_exporter": "python",
   "pygments_lexer": "ipython3",
   "version": "3.8.10"
  }
 },
 "nbformat": 4,
 "nbformat_minor": 5
}
